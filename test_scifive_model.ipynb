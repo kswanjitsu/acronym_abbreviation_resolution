{
 "cells": [
  {
   "cell_type": "markdown",
   "source": [
    "# This script trains a test model from to resolve acronyms and abbreviations\n",
    "## It later analyzes the results of the model on the test set\n",
    "### Let's start by doing standard imports"
   ],
   "metadata": {
    "collapsed": false,
    "pycharm": {
     "name": "#%% md\n"
    }
   }
  },
  {
   "cell_type": "code",
   "execution_count": 1,
   "outputs": [
    {
     "name": "stderr",
     "output_type": "stream",
     "text": [
      "Global seed set to 42\n"
     ]
    }
   ],
   "source": [
    "import pandas as pd\n",
    "import simpletransformers\n",
    "from simplet5 import SimpleT5"
   ],
   "metadata": {
    "collapsed": false,
    "pycharm": {
     "name": "#%%\n"
    }
   }
  },
  {
   "cell_type": "markdown",
   "source": [
    "- Open the dataset, edit the prompt prefix to include a ':' and the column names to work with SimpleT5, drop old prefix"
   ],
   "metadata": {
    "collapsed": false,
    "pycharm": {
     "name": "#%% md\n"
    }
   }
  },
  {
   "cell_type": "code",
   "execution_count": 11,
   "outputs": [],
   "source": [
    "df = pd.read_csv('/home/karl/PycharmProjects/RABAC/finetune_SciFive/reverse_sub_mt_training_data/t5_training_data_20221105-083136.tsv', delimiter='\\t')\n",
    "df['input_text'] = df['prefix'] + \": \" + df['input_text']\n",
    "df.drop('prefix', inplace=True, axis=1)\n",
    "df = df.rename(columns={\"prefix\": \"prefix\", \"input_text\": \"source_text\"})"
   ],
   "metadata": {
    "collapsed": false,
    "pycharm": {
     "name": "#%%\n"
    }
   }
  },
  {
   "cell_type": "markdown",
   "source": [
    "- Now let's shuffle the dataset\n",
    "- Then we split for test and training"
   ],
   "metadata": {
    "collapsed": false,
    "pycharm": {
     "name": "#%% md\n"
    }
   }
  },
  {
   "cell_type": "code",
   "execution_count": 12,
   "outputs": [],
   "source": [
    "# Shuffle data\n",
    "df = df.sample(frac=1)\n",
    "# Split it into training and eval datasets\n",
    "num_for_training = int(len(df)*0.8)\n",
    "train_df = df[:num_for_training]\n",
    "test_df = df[num_for_training:]"
   ],
   "metadata": {
    "collapsed": false,
    "pycharm": {
     "name": "#%%\n"
    }
   }
  },
  {
   "cell_type": "markdown",
   "source": [
    "## Training time\n",
    "- Call the simpleT5 module\n",
    "- Use T5 base model that was finetuned on Pubmed, PMC for natural language inference on biomedical data\n",
    "- [For details on the base model and citation of the paper click here](https://huggingface.co/razent/SciFive-large-Pubmed_PMC-MedNLI)\n",
    "- Of note, I had to edit the SimpleT5 module to handle GPU parallelization via Lightning Pytorch, this is beyond scope of this notebook\n",
    "- Essentially Simple T5 only enables single GPU use, which was giving OOM issues with batch sizes >2, even with this, I could only do batch size of 4"
   ],
   "metadata": {
    "collapsed": false,
    "pycharm": {
     "name": "#%% md\n"
    }
   }
  },
  {
   "cell_type": "code",
   "execution_count": 5,
   "outputs": [
    {
     "name": "stderr",
     "output_type": "stream",
     "text": [
      "/home/karl/anaconda3/envs/RABAC/lib/python3.8/site-packages/pytorch_lightning/trainer/connectors/accelerator_connector.py:286: LightningDeprecationWarning: Passing `Trainer(accelerator='dp')` has been deprecated in v1.5 and will be removed in v1.7. Use `Trainer(strategy='dp')` instead.\n",
      "  rank_zero_deprecation(\n",
      "GPU available: True, used: True\n",
      "TPU available: False, using: 0 TPU cores\n",
      "IPU available: False, using: 0 IPUs\n",
      "LOCAL_RANK: 0 - CUDA_VISIBLE_DEVICES: [0,1]\n",
      "\n",
      "  | Name  | Type                       | Params\n",
      "-----------------------------------------------------\n",
      "0 | model | T5ForConditionalGeneration | 737 M \n",
      "-----------------------------------------------------\n",
      "737 M     Trainable params\n",
      "0         Non-trainable params\n",
      "737 M     Total params\n",
      "2,950.672 Total estimated model params size (MB)\n"
     ]
    },
    {
     "data": {
      "text/plain": "Validation sanity check: 0it [00:00, ?it/s]",
      "application/vnd.jupyter.widget-view+json": {
       "version_major": 2,
       "version_minor": 0,
       "model_id": "86968ce7f16b4ac2aea556ff4cb1fbe0"
      }
     },
     "metadata": {},
     "output_type": "display_data"
    },
    {
     "name": "stderr",
     "output_type": "stream",
     "text": [
      "Global seed set to 42\n"
     ]
    },
    {
     "data": {
      "text/plain": "Training: 0it [00:00, ?it/s]",
      "application/vnd.jupyter.widget-view+json": {
       "version_major": 2,
       "version_minor": 0,
       "model_id": "3dc13a032ce34e8482f11bb547f145cf"
      }
     },
     "metadata": {},
     "output_type": "display_data"
    },
    {
     "data": {
      "text/plain": "Validating: 0it [00:00, ?it/s]",
      "application/vnd.jupyter.widget-view+json": {
       "version_major": 2,
       "version_minor": 0,
       "model_id": "c25c9beb898145c1831860f337a7114d"
      }
     },
     "metadata": {},
     "output_type": "display_data"
    },
    {
     "data": {
      "text/plain": "Validating: 0it [00:00, ?it/s]",
      "application/vnd.jupyter.widget-view+json": {
       "version_major": 2,
       "version_minor": 0,
       "model_id": "ae60bf78462a4f41b653e093dd865409"
      }
     },
     "metadata": {},
     "output_type": "display_data"
    },
    {
     "data": {
      "text/plain": "Validating: 0it [00:00, ?it/s]",
      "application/vnd.jupyter.widget-view+json": {
       "version_major": 2,
       "version_minor": 0,
       "model_id": "09b34f7c1e9a4da89dd5257c37e32ba5"
      }
     },
     "metadata": {},
     "output_type": "display_data"
    },
    {
     "data": {
      "text/plain": "Validating: 0it [00:00, ?it/s]",
      "application/vnd.jupyter.widget-view+json": {
       "version_major": 2,
       "version_minor": 0,
       "model_id": "02c7474c65d44357b1d81068854d018b"
      }
     },
     "metadata": {},
     "output_type": "display_data"
    },
    {
     "data": {
      "text/plain": "Validating: 0it [00:00, ?it/s]",
      "application/vnd.jupyter.widget-view+json": {
       "version_major": 2,
       "version_minor": 0,
       "model_id": "4e025a0977384a4ca677b3e5444cd196"
      }
     },
     "metadata": {},
     "output_type": "display_data"
    },
    {
     "data": {
      "text/plain": "Validating: 0it [00:00, ?it/s]",
      "application/vnd.jupyter.widget-view+json": {
       "version_major": 2,
       "version_minor": 0,
       "model_id": "7342bc465ad7486c852428ef4d4bfc92"
      }
     },
     "metadata": {},
     "output_type": "display_data"
    },
    {
     "data": {
      "text/plain": "Validating: 0it [00:00, ?it/s]",
      "application/vnd.jupyter.widget-view+json": {
       "version_major": 2,
       "version_minor": 0,
       "model_id": "9d16b64bb2e34a449e0b94753b3a7639"
      }
     },
     "metadata": {},
     "output_type": "display_data"
    },
    {
     "data": {
      "text/plain": "Validating: 0it [00:00, ?it/s]",
      "application/vnd.jupyter.widget-view+json": {
       "version_major": 2,
       "version_minor": 0,
       "model_id": "0b6a299cb51446318ef15948c0677361"
      }
     },
     "metadata": {},
     "output_type": "display_data"
    },
    {
     "data": {
      "text/plain": "Validating: 0it [00:00, ?it/s]",
      "application/vnd.jupyter.widget-view+json": {
       "version_major": 2,
       "version_minor": 0,
       "model_id": "07730b145d81473084b78fd365730778"
      }
     },
     "metadata": {},
     "output_type": "display_data"
    },
    {
     "data": {
      "text/plain": "Validating: 0it [00:00, ?it/s]",
      "application/vnd.jupyter.widget-view+json": {
       "version_major": 2,
       "version_minor": 0,
       "model_id": "6aba3bc1d887405dbd47db0caf7b35af"
      }
     },
     "metadata": {},
     "output_type": "display_data"
    },
    {
     "data": {
      "text/plain": "Validating: 0it [00:00, ?it/s]",
      "application/vnd.jupyter.widget-view+json": {
       "version_major": 2,
       "version_minor": 0,
       "model_id": "0de25d3b5dba4d1f91d4ada055e3afd3"
      }
     },
     "metadata": {},
     "output_type": "display_data"
    },
    {
     "data": {
      "text/plain": "Validating: 0it [00:00, ?it/s]",
      "application/vnd.jupyter.widget-view+json": {
       "version_major": 2,
       "version_minor": 0,
       "model_id": "76bc3eca54894b8da94aa3122232b416"
      }
     },
     "metadata": {},
     "output_type": "display_data"
    },
    {
     "data": {
      "text/plain": "Validating: 0it [00:00, ?it/s]",
      "application/vnd.jupyter.widget-view+json": {
       "version_major": 2,
       "version_minor": 0,
       "model_id": "040b1cb81ddc4d10b5c402c994944bb4"
      }
     },
     "metadata": {},
     "output_type": "display_data"
    },
    {
     "data": {
      "text/plain": "Validating: 0it [00:00, ?it/s]",
      "application/vnd.jupyter.widget-view+json": {
       "version_major": 2,
       "version_minor": 0,
       "model_id": "8ef253ec698146f2bc785330612c8ad1"
      }
     },
     "metadata": {},
     "output_type": "display_data"
    },
    {
     "data": {
      "text/plain": "Validating: 0it [00:00, ?it/s]",
      "application/vnd.jupyter.widget-view+json": {
       "version_major": 2,
       "version_minor": 0,
       "model_id": "24436bf861054b3ca65c444ca279fdca"
      }
     },
     "metadata": {},
     "output_type": "display_data"
    },
    {
     "data": {
      "text/plain": "Validating: 0it [00:00, ?it/s]",
      "application/vnd.jupyter.widget-view+json": {
       "version_major": 2,
       "version_minor": 0,
       "model_id": "d5f4cce646914c9ea0297313797728fc"
      }
     },
     "metadata": {},
     "output_type": "display_data"
    }
   ],
   "source": [
    "model = SimpleT5()\n",
    "model.from_pretrained(model_type=\"t5\", model_name=\"razent/SciFive-large-Pubmed_PMC-MedNLI\")\n",
    "model.train(train_df=train_df,\n",
    "            eval_df=test_df,\n",
    "            batch_size=4,\n",
    "            max_epochs=16,\n",
    "            use_gpu=True,\n",
    "            num_gpu=2,\n",
    "            dataloader_num_workers=24\n",
    "           )"
   ],
   "metadata": {
    "collapsed": false,
    "pycharm": {
     "name": "#%%\n"
    }
   }
  },
  {
   "cell_type": "code",
   "execution_count": null,
   "outputs": [],
   "source": [
    "model.load_model(\"t5\",\"/home/karl/PycharmProjects/RABAC/finetune_SciFive/outputs/simplet5-epoch-15-train-loss-0.018-val-loss-0.0802\", use_gpu=True)"
   ],
   "metadata": {
    "collapsed": false,
    "pycharm": {
     "name": "#%%\n"
    }
   }
  },
  {
   "cell_type": "markdown",
   "source": [
    "## Now that the model is trained, let's do a test prediction on the source text, we will evaluate the model on test data below"
   ],
   "metadata": {
    "collapsed": false,
    "pycharm": {
     "name": "#%% md\n"
    }
   }
  },
  {
   "cell_type": "code",
   "execution_count": 9,
   "outputs": [
    {
     "data": {
      "text/plain": "[\"her evaluation today reveals restriction in the range of motion of the cervical and lumbar region with tenderness and spasms of the paraspinal musculature. motor strength was 5/5 on the mrc scale. reflexes were 2+ and symmetrical. palpable trigger points were noted bilaterally in the trapezius and lumbar paraspinal musculature bilaterally. palpable trigger points were noted on today's evaluation. she is suffering from ongoing myofascitis. her treatment plan will consist of a series of trigger point injections which were performed today. she tolerated the procedure well. i have asked her to ice the region intermittently for 15 minutes off and on x 3. she will be followed in four weeks' time for repeat trigger point injections if indicated.\"]"
     },
     "execution_count": 9,
     "metadata": {},
     "output_type": "execute_result"
    }
   ],
   "source": [
    "# This is an unprocessed source text being passed through the model, so the output should\n",
    "# have resolved acronyms and abbreviations (acabs)\n",
    "model.predict(test_df['source_text'].iloc[1])"
   ],
   "metadata": {
    "collapsed": false,
    "pycharm": {
     "name": "#%%\n"
    }
   }
  },
  {
   "cell_type": "code",
   "execution_count": 10,
   "outputs": [
    {
     "name": "stdout",
     "output_type": "stream",
     "text": [
      "dejargon: her eval today reveals restriction in the range of motion of the cervical and lumbar region w tenderness and spasms of the paraspinal musculature. motor strength was 5/5 on the mrc scale. reflexes were 2+ and symmetrical. palp trigger points were noted blly in the trapezius and lumbar paraspinal musculature blly. palp trigger points were noted on today's eval. she is suffering from ongoing myofascitis. her tp will consist of a series of trigger point injections which were performed today. she tolerated the procedure well. i have asked her to ice the region intermittently for 15 min off and on x 3. she will be followed in four wks' time for rpt trigger point injections if indicated.\n"
     ]
    }
   ],
   "source": [
    "# This output shows what the text looked like prior to being passed to the model, so it should have the original acabs\n",
    "# It looks like it got every acab except mrc, which is not in our training data - this is a great result!\n",
    "print(test_df['source_text'].iloc[1])"
   ],
   "metadata": {
    "collapsed": false,
    "pycharm": {
     "name": "#%%\n"
    }
   }
  },
  {
   "cell_type": "markdown",
   "source": [
    "## Okay time to run the model on all of the source_texts for downstream analysis\n",
    "- this will take some time, so go grab lunch!"
   ],
   "metadata": {
    "collapsed": false,
    "pycharm": {
     "name": "#%% md\n"
    }
   }
  },
  {
   "cell_type": "code",
   "execution_count": 13,
   "outputs": [
    {
     "name": "stderr",
     "output_type": "stream",
     "text": [
      "/tmp/ipykernel_155063/120896636.py:1: SettingWithCopyWarning: \n",
      "A value is trying to be set on a copy of a slice from a DataFrame.\n",
      "Try using .loc[row_indexer,col_indexer] = value instead\n",
      "\n",
      "See the caveats in the documentation: https://pandas.pydata.org/pandas-docs/stable/user_guide/indexing.html#returning-a-view-versus-a-copy\n",
      "  test_df['predicted'] = test_df['source_text'].apply(lambda x: model.predict(x))\n"
     ]
    }
   ],
   "source": [
    "test_df['predicted'] = test_df['source_text'].apply(lambda x: model.predict(x))"
   ],
   "metadata": {
    "collapsed": false,
    "pycharm": {
     "name": "#%%\n"
    }
   }
  },
  {
   "cell_type": "markdown",
   "source": [
    "## It finished running, let's have a look at some of the output"
   ],
   "metadata": {
    "collapsed": false,
    "pycharm": {
     "name": "#%% md\n"
    }
   }
  },
  {
   "cell_type": "code",
   "execution_count": 51,
   "outputs": [
    {
     "name": "stdout",
     "output_type": "stream",
     "text": [
      "dejargon: preop dx: symptomatic disk herniation c7-t1. final dx: symptomatic disk herniation c7-t1. procedures performed 1. ant cervical discectomy w decompression of sp cd c7-t1. 2. ant cervical fusion c7-t1. 3. ant cervical instrumentation ant c7-t1. 4. insertion of intervertebral device c7-t1. 5. use of operating microscope. anesthesiology: gen et. est bld loss: a 30 ml. procedure in detail: the pt was taken to the or where he was poly intub per the anesthesiology service. he was placed in the supine position on an or table. his arms were carefully taped down. he was sterilely prepped and draped in the usual fashion. a 4-cm incision was made obliquely over the l side of his neck. sq tissue was dissected down to the level of the platysma. the platysma was incised using electrocautery. blunt dissection was done to create a plane btwn the strap muscles and the sternoclavicular mastoid muscle. this allowed us to get r down on to the ant cervical sp. blunt dissection was done to sweep off the longus colli. we isolated the c7-t1 interspace. an x-ray was taken to verify; we were indeed at the c7-t1 interspace. shadow-line retractor was placed as well as caspar pins. this provided very very good access to the c7-t1 disk. at this point the operating microscope was brought into the decompression. a thorough and aggressive c7-t1 discectomy was done using a succession of curettes pituitary rongeur 4-mm cutting bur and a #2 kerrison rongeur. at the end of the discectomy the cartilaginous endplates were carefully removed using 4-mm cutting burr. the post longitudinal lig was carefully resected using #2 kerrison rongeur. l-sided c8 foraminotomy was accomplished using nerve hook and a 2-mm kerrison rongeur. at the end of the decompression there was no further compression on the l c8 nerve root. a synthes cortical cancellous ____________ bone was placed in the interspace. sofamor danek atlantis plate was then placed over the interspace and four screws were placed two in the body of c7 and two in the body of t1. an x-ray was taken. it showed good placement of the plate and screws. a deep drain was placed. the platysma layer was closed in running fashion using #1 vicryl. sc tissue was closed in an interrupted fashion using 2-0 vicryl. skin was closed in a running fashion using 4-0 monocryl. steri-strips and dsgs were applied. all counts were correct. there were no complications.\n",
      "\n",
      "\n",
      "preoperative diagnosis: symptomatic disk herniation c7-t1. final diagnosis: symptomatic disk herniation c7-t1. procedures performed 1. anterior cervical discectomy with decompression of spinal cord c7-t1. 2. anterior cervical fusion c7-t1. 3. anterior cervical instrumentation anterior c7-t1. 4. insertion of intervertebral device c7-t1. 5. use of operating microscope. anesthesiology: general endotracheal. estimated blood loss: a 30 ml. procedure in detail: the patient was taken to the operating room where he was orally intubated by the anesthesiology service. he was placed in the supine position on an or table. his arms were carefully taped down. he was sterilely prepped and draped in the usual fashion. a 4-cm incision was made obliquely over the left side of his neck. subcutaneous tissue was dissected down to the level of the platysma. the platysma was incised using electrocautery. blunt dissection was done to create a plane between the strap muscles and the sternoclavicular mastoid muscle. this allowed us to get right down on to the anterior cervical spine. blunt dissection was done to sweep off the longus colli. we isolated the c7-t1 interspace. an x-ray was taken to verify; we were indeed at the c7-t1 interspace. shadow-line retractor was placed as well as caspar pins. this provided very very good access to the c7-t1 disk. at this point the operating microscope was brought into the decompression. a thorough and aggressive c7-t1 discectomy was done using a succession of curettes pituitary rongeur 4-mm cutting bur and a #2 kerrison rongeur. at the end of the discectomy the cartilaginous endplates were carefully removed using 4-mm cutting burr. the posterior longitudinal ligament was carefully resected using #2 kerrison rongeur. left-sided c8 foraminotomy was accomplished using nerve hook and a 2-mm kerrison rongeur.\n",
      "\n",
      "###########################################\n",
      "###########################################\n",
      "\n",
      "dejargon: her eval today reveals restriction in the range of motion of the cervical and lumbar region w tenderness and spasms of the paraspinal musculature. motor strength was 5/5 on the mrc scale. reflexes were 2+ and symmetrical. palp trigger points were noted blly in the trapezius and lumbar paraspinal musculature blly. palp trigger points were noted on today's eval. she is suffering from ongoing myofascitis. her tp will consist of a series of trigger point injections which were performed today. she tolerated the procedure well. i have asked her to ice the region intermittently for 15 min off and on x 3. she will be followed in four wks' time for rpt trigger point injections if indicated.\n",
      "\n",
      "\n",
      "her evaluation today reveals restriction in the range of motion of the cervical and lumbar region with tenderness and spasms of the paraspinal musculature. motor strength was 5/5 on the mrc scale. reflexes were 2+ and symmetrical. palpable trigger points were noted bilaterally in the trapezius and lumbar paraspinal musculature bilaterally. palpable trigger points were noted on today's evaluation. she is suffering from ongoing myofascitis. her treatment plan will consist of a series of trigger point injections which were performed today. she tolerated the procedure well. i have asked her to ice the region intermittently for 15 minutes off and on x 3. she will be followed in four weeks' time for repeat trigger point injections if indicated.\n",
      "\n",
      "###########################################\n",
      "###########################################\n",
      "\n",
      "dejargon: dc diagnoses: 1. acute cva/l basal ganglia and deep white matter of the l parietal lobe. 2. htn. 3. uti. 4. hypercholemia. procedures: 1. on 3/26/2006 portable chest single view. impression: atherosclerotic chg in the aortic knob. 2. on 3/26/2006 chest portable single view. impression: mild tortuosity of the thoracic aorta maybe 2/2 htn; r lat costophrenic angle is not evald d/t positioning of the pt. 3. on march 27 2006 swallowing study: nml swallowing study w min penetration w/ thin liqs. 4. on march 26 2006 head ct wo contrast: 1) air-fluid level in the rt maxry sinus suggestive of acute sinusitis; 2) a 1.8-cm oval low density mass in the dependent portion of the l maxry sinus is consistent w/ a retention cyst; 3) mucoparietal cell thickening in the rt maxry sinus and ethmoid sinuses. 4. iv contrast ct scan of the head is unremarkable. 5. on 3/26/2006 mri/mra of the neck and brain w/ and w/o contrast: 1) chgs consistent w/ an infarct involving the r basal ganglia and deep white matter of the l parietal lobe as described above; 2) diffuse smooth narrowing of the l middle cerebral art that may be a congenital abnormity. clinical correlation is necessary. 6. on march 27th echocardiogm w bubble study. impression: norm l ventricular systolic fxn w/ est l ventricular ef of 55%. there is mild concentric l ventricular hypertrophy. the la size is norm w/ a neg bubble study. 7. on march 27 2006 carotid duplex u/s showed: 1) grade 1 carotid stenosis on the rt; 2) no evidence of carotid stenosis on the l. hx and phys: this is a 56-yr-old white male w a h/o htn for 15 yrs untx. the pt woke up at 7: 15 a.m. on march 26 w the sudden onset of r-sided weakness of his arm hand lg and ft and also w a r facial droop r hand numbness on the dorsal side l face numbness and slurred speech. the pt was brought per ems to er. the pt was norm ante he went to bed the prior noct. he was given asa in the er. the ct of the brain w/o contrast did not show any chgs. he could not have a ct w contrast because the machine was broken. he went ahead and had the mri/mra of the brain and neck which showed infarct involving the r basal ganglia and deep white matter of the l parietal lobe. also there is diffuse smooth narrowing of the l middle cerebral art. the pt was adm to the micu. hosp course per problem list: 1. acute cva: the pt was not a candidate for tpa. a neuro c/s was obtained from dr. s. she agrees w/ our tx for this pt. the pt was on asa 325 mg and also on zocor 20 mg od. we also ordered fasting bld lipids which showed chol of 165 triglycerides 180 hdl chol 22 ldl chol 107. dr. farber agreed to tx the risk factors to not tx b/p for the first two wks of the stroke. we put the pt on p.r.n. labetalol only for sbp greater than 200 diastolic b/p greater than 120. the pt's bp has been stable and he did not need any b/p meds. his rt lg kept improving w/ ^ muscle strength and it was 4-5/5 however his r ue did not improve much and was 0-1/5. his slurred speech has been improved a little bit. the pt started pt ot and speech therapy on the second day of hospization. the pt was tfxred out to a regular floor on the same day of adm based on his stable neuro exam. also we added aggrenox for secondary stroke prevention suggested per dr. f. echocardiog was ordered and showed norm l ventricular fxn w bubble study that was neg. carotid u/s only showed mild stenosis on the r side. ekg did not show any chgs so the pt will be tfxred to siskin rehabilitation hosp today on aggrenox for secondary stroke prevention. he will not need bp tx unless systolic is greater than 220 diastolic greater than 120 for the first wk of his stroke. on dc on his neuro exam he has a r facial palsy from the eye below he has rt ue weakness w 0-1/5 muscle strength r lg is 4-5/5 improved slurred speech. 2. htn: as i mentioned in item #1 see above his b/p has been stable. this did not need any tx. 3. uti: the pt had u/a on march 26th which showed a lrg amt of le sm amt of bld w rbc 34 wbcs 41 mod amt of bacteria. the pt was started on cipro 250 mg p.o. b.i.d. on march 26th. he needs to finish seven days of ab tx for his uti. urine c&s were neg. 4. hypercholemia: the pt was put on zocor 20 mg p.o. daily. the goal ldl for this pt will be less than 70. his ldl currently is 107 hdl is 22 triglycerides 180 chol is 165. condition on d/c: stable. act: as tol. diet: low-fat low-salt cardiac diet. d/c instructions: 1. take meds regularly. 2. pt ot speech therapist to eval and tx at siskin rehab hosp. 3. cont cipro for an additional two days for his uti. d/c meds: 1. cipro 250 mg one tab p.o. b.i.d. for an additional two days. 2. aggrenox one tab p.o. b.i.d. 3. docusate na+ 100 mg one cap p.o. b.i.d. 4. zocor 20 mg one tab p.o. at bedtime. 5. prevacid 30 mg p.o. od. fu: 1. the pt needs to fu w/ rehabilitation hosp p he is dcd from there. 2. the pt can call the clinic if he needs a f/u appt w/ us or the pt can find a pcp since he has insurance.\n",
      "\n",
      "\n",
      "discharge diagnoses: 1. acute cerebrovascular accident/left basal ganglia and deep white matter of the left parietal lobe. 2. hypertension. 3. urinary tract infection. 4. hypercholesterolemia. procedures: 1. on 3/26/2006 portable chest single view. impression: atherosclerotic change in the aortic knob. 2. on 3/26/2006 chest portable single view. impression: mild tortuosity of the thoracic aorta maybe secondary to hypertension; right lateral costophrenic angle is not evaluated due to positioning of the patient. 3. on march 27 2006 swallowing study: normal swallowing study with minimal penetration with thin liquids. 4. on march 26 2006 head ct without contrast: 1) air-fluid level in the right maxillary sinus suggestive of acute sinusitis; 2) a 1.8-cm oval low density mass in the dependent portion of the left maxillary sinus and ethmoid sinuses. 4. iv contrast ct scan of the head is unremarkable. 5. on 3/26/2006 mri/mra of the brain without contrast did not show any changes. he could not have a ct with contrast because the machine was broken. he went ahead and had the mri/mra of the brain and neck which showed infarct involving the right basal ganglia and deep white matter of the left parietal lobe. also there is diffuse smooth narrowing of the left middle cerebral artery. the patient was admitted to the micu. hospital course per problem list: 1. acute cerebrovascular accident: the patient was not a candidate for treatment of hypertension. the patient was on aspirin 325 mg and also on zocor 20 mg once a day. we also ordered fasting blood lipids which showed cholesterol of 165 triglycerides 180 hdl cholesterol 22 ldl cholesterol 107. the patient was started on zocor 20 mg p.o. daily. the goal ldl for this patient will be less than 70. his ldl currently is 107 hdl is 22 triglycerides 180 cholesterol is 165. condition on discharge:\n",
      "\n",
      "###########################################\n",
      "###########################################\n",
      "\n",
      "dejargon: pre and postop dx: l cervical radiculopathy at c5 c6 op: l c5-6 hemilaminotomy and foraminotomy w medial facetectomy for microscopic decompression of nerve root. post informed consent was obtained from the pt he was taken to the or. post gen anesthesia had been induced ted hose stockings and pneumatic compression stockings were placed on the pt and a f/c was also inserted. at this point the pt's was placed in three point fixation w a mayfield head holder and then the pt was placed on the operating table in a prone position. the pt's post cervical area was then prepped and draped in the usual sterile fashion. at this time the pt's incision site was infiltrated w/ 1 percent lidocaine w epinephrine. a scalpel was used to make an approximate 3 cm skin incision cephalad to the prominent c7 spinous processes which could be palpated. p dissection down to a spinous process using bovie cautery a clamp was placed on this spinous processes and cross table lat x-ray was taken. this showed the spinous process to be at the c4 level. therefore further soft tissue dissection was carried out caudally to this level p the next spinous processes presumed to be c5 was identified. post the muscle was dissected off the lamina latly on the l side self retaining retractors were placed and p hemostasis was achieved a penfield probe was placed in the interspace presumed to be c5-6 and another cross table lat x-ray of the c sp was taken. this film confirmed our position at c5-6 and therefore the operating microscope was brought onto the field at this time. at the time the kerrison rongeur was used to perform a hemilaminotomy per starting w/ the inferior margin of the sup lamina. the sup margin of the inferior lamina of c6 was also taken w/ the kerrison rongeur post the ligs had been freed per using a woodson probe. this was then extended latly to perform a medial facetectomy also using the kerrison rongeur. however progress was limited because of thickness of the bone. therefore at this time the midas-rex drill the am8 bit was brought onto the field and this was used to thin out the bone around our laminotomy and medial facetectomy area. p the bone had been thinned out further bone was removed using the kerrison rongeur. at this point the nerve root was visually inspected and observed to be decompressed. however there was a layer of fibrous tissue overlying the exiting nerve root which was removed per placing a woodson resector in a plane btw the fibrous sheath and the nerve root and incising it w/ a 15 blade. hemostasis was then achieved per using gelfoam as well as bipolar electrocautery. p hemostasis was achieved the surgical site was copiously irrigd w bacitracin. closure was initiated per closing the muscle layer and the fascial layer w 0 vicryl stitches. the subq layer was then reapproximated using 000 dexon. the skin was reapproximated using a running 000 nylon. sterile dsgs were applied. the pt was then extubd in the or and trxred to the recovery room in stable condition. est bld loss: min.\n",
      "\n",
      "\n",
      "pre and postoperative diagnosis: left cervical radiculopathy at c5 c6 operation: left c5-6 hemilaminotomy and foraminotomy with medial facetectomy for microscopic decompression of nerve root. after informed consent was obtained from the patient he was taken to the or. after general anesthesia had been induced ted hose stockings and pneumatic compression stockings were placed on the patient and a foley catheter was also inserted. at this point the patient's was placed in three point fixation with a mayfield head holder and then the patient was placed on the operating table in a prone position. the patient's posterior cervical area was then prepped and draped in the usual sterile fashion. at this time the patient's incision site was infiltrated with 1 percent lidocaine with epinephrine. a scalpel was used to make an approximate 3 cm skin incision cephalad to the prominent c7 spinous processes which could be palpated. after dissection down to a spinous process using bovie cautery a clamp was placed on this spinous processes and cross table lateral x-ray was taken. this showed the spinous process to be at the c4 level. therefore further soft tissue dissection was carried out caudally to this level after the next spinous processes presumed to be c5-6 was identified. after the muscle was dissected off the lamina laterally on the left side self retaining retractors were placed and after hemostasis was achieved a penfield probe was placed in the interspace presumed to be c5-6 and another cross table lateral x-ray of the c spine was taken. this was then extended laterally to perform a medial facetectomy also using the kerrison rongeur. however progress was limited because of thickness of the bone. therefore at this time the midas-rex drill the am8 bit was brought onto the field and this was used to thin out the bone around our laminotomy and medial facetectomy area. after the bone had been thinned out further bone was removed using the kerrison rongeur. at this point the nerve root was visually inspected and\n",
      "\n",
      "###########################################\n",
      "###########################################\n",
      "\n",
      "dejargon: preop dx: carcinoma of the pros clinical stage t1c. postop dx: carcinoma of the pros clinical stage t1c. title of op: cystoscopy cryosurgical ablation of the pros. findings: p measurement of the pros we decided to place 5 rows of needles--row #1 had 3 needles row #2 at the level of the mid-pros had 4 needles row #3 had 2 needles in the r lat peripheral zone row #4 was a single needle directly the urethra and in row #5 were 2 needles placed in the l lat peripheral zone. because of the length of the pros a pull-back was performed pulling row #2 approx 3 mm and rows #3 #4 and #5 approx 1 cm back ante refreezing. op in detail: the pt was brought to the or and placed in the supine position. p adequate gen et anesthesia was obtained the pt was positioned in the dorsal lithotomy position. full bowel prep had been obtained prior to the procedure. post performing flexible cystoscopy a f/c was placed per urethra into the blad. next the us probe was placed into the stabilizer and advanced into the rectum. an excellent us image was visualized of the entire pros which was re-measured. next the probe template was positioned over the perineum and the template guide brought up on the u/s screen in order to guide needle placement. then 17-gauge needles were serially placed into the pros from an ap direction into the pros. u/s guidance demonstrated that these needles numbering approx 14 to 15 needles were well placed and spaced throughout the pros to obtain excellent freezing of the entire gland while sparing the urethra. rpt cystoscopy demonstrated a single needle passing through the urethra; and d/t the high ant location of this needle it was removed. the cms urethral wmer was then passed per urethra into the blad and flow instituted. p placing these 17-gauge needles the pros was then frozen down to minus 150 degrees for 10 min in sequential fashion from ap. the ice ball was monitored and was seen to extend through the cap of the pros toward the rectum but not through the rect wall itself. active wming was then performed ante refreezing the pros again and then passively wming it back to room temp. the urethral wmer was l on p the needles were removed and the pt brought to the recovery room. the pt tolerated the procedure well and l the or in stable condition.\n",
      "\n",
      "\n",
      "preoperative diagnosis: carcinoma of the prostate clinical stage t1c. postoperative diagnosis: carcinoma of the prostate clinical stage t1c. title of operation: cystoscopy cryosurgical ablation of the prostate. findings: after measurement of the prostate we decided to place 5 rows of needles--row #1 had 3 needles row #2 at the level of the mid-prostate had 4 needles row #3 had 2 needles in the right lateral peripheral zone row #4 was a single needle directly the urethra and in row #5 were 2 needles placed in the left lateral peripheral zone. because of the length of the prostate a pull-back was performed pulling row #2 approximately 3 mm and rows #3 #4 and #5 approximately 1 cm back before refreezing. operation in detail: the patient was brought to the operating room and placed in the supine position. after adequate general endotracheal anesthesia was obtained the patient was positioned in the dorsal lithotomy position. full bowel prep had been obtained prior to the procedure. after performing flexible cystoscopy a foley catheter was placed per urethra into the bladder. next the ultrasound probe was placed into the stabilizer and advanced into the rectum. an excellent ultrasound image was visualized of the entire prostate which was re-measured. next the probe template was positioned over the perineum and the template guide brought up on the ultrasound screen in order to guide needle placement. then 17-gauge needles were serially placed into the prostate from an anterior direction into the prostate. ultrasound guidance demonstrated that these needles numbering approximately 14 to 15 needles were well placed and spaced throughout the prostate to obtain excellent freezing of the entire gland while sparing the urethra. repeat cystoscopy demonstrated a single needle passing through the urethra; and due to the high anterior location of this needle it was removed. the cms urethral warmer was then passed per urethra into the bladder and flow instituted. after placing these 17-gauge needles the prostate was then frozen down to minus 150 degrees for 10 minutes in sequential fashion from ap. the ice ball was monitored and was seen to extend through the capsule of the prostate toward the rectum but not through the rectal wall itself. active warming was then\n",
      "\n",
      "###########################################\n",
      "###########################################\n",
      "\n",
      "dejargon: cc: dk urine and genized weakness. hpi: 40 y/o hispanic male presented to the er c/o genized weakness fatigue and dk urine for one wk. in addition he stated that his family had noticed yeling of his skin and eyes though he himself had not noticed. he did c/o subjective fever and chills along w/ occ noct sweats during the prior wk or so and he noted anorexia for 3-4 wks leading to 26 lb wt loss (213 lbs. to 187 lbs.). he was nauseated but denied vomiting. he did admit to intermittent abdominal discomfort which he could not localize. in addition he denied any h/o liver dis but had undergone cholecystectomy many yrs prev. pmh: dm ii-hba1c unk pshx: cholecystectomy w/o complication family hx: mo w diabetes and htn. fa w/ diabetes. brother w cirrhosis (etiology not documented). soc hx: he was unemployed and denied any alc or drug use. he was a prior “mild” smoker but quit 10 yrs prev. meds: insulin (unk dosage) allergies: nkda. pe: temp: 98.2 b/p:118/80 hr: 95 rr: 18 gen: middle age latin-american male jaundice alert and oriented to person/place/time. heent: normocephalic atraumatic. icteric sclerae perrl. clr op. neck: supple wo jugular venous distension lymphadenopathy thyromegaly or carotid bruits. cv: rrr nml s1 and s2. no murmurs gallops or rubs pulm: ctab wo rhonchi rales or wheezes abd: soft w mild ruq tenderness to deep palpation murphy’s sign absent. bss present. hepatomegaly w liver edge 3 cm below costal margin. splenic tip palp. rect: guaiac neg ext: shotty inguinal lymphadenopathy bilatly lgst node 2cm neuro: strength 5/5 throughout sensation intact reflexes symmetric. no focal abnormity identified. no asterixis skin: jaundice no rash. no petechiae gynecomastia or spider angiomata. hosp course: the pt was adm to the hosp to begin workup of liver failure. initial labs were considered to be consistent w/ an obstructive pattern so further imaging was obtained. a ct scan of the abd and pelvis revealed lymphadenopathy and a markedly enlgd liver. his abdominal pain was controlled w mild narcotics and he was noted to have decreasing jaundice per hosp day 4. an us guided liver biopsy revealed only acute granulomatous inflammation and fibrosis. the overall architecture of the liver was noted to be well preserved. gastroenterology was c/sed for egd and ercp. the egd was nml and the ercp showed nml biliary anatomy w/o evidence of obstruction. in addition they performed an endoscopic u/s-guided fine needle aspiration of two lymph-nodes one in the subcarinal region and one near the celiac plexus. again pathologic results were insufficient to make a tissue dx. per the second wk of hospization the pt was having intermittent low-grade fevers and again experiencing noct-sweats. he remained jaundice. given the prev neg biopsies surg was c/sed to perform an excisional biopsy of the r groin lymph node which revealed no evidence of carcinoma neg afb and gms stains and a single noncaseating granuloma. per his fourth wk of hospization he remained ill w/ evidence of ongoing liver failure. surg performed an open liver biopsy and lymph node resection. studies (historical): ct abd: multiple enlrgd lymph nodes near the porta hepatis and peri-pancreatic regions. the lgst node measures 3.5 x 3.0 cm. the liver is markedly enlgd (23cm) w/ a heterogenous pattern of enhancement. the spleen size is at the upper limit of norm. pancreas adrenal glands and kidneys are wnl. visualized portions of the lung parenchyma are grossly norm. ct neck: no abnmlities noted ct head: no intracran abnmlities ruq us (for biopsy): heterogenous liver w/ lymphadenopathy. ercp: no filling defect noted; norm pd visualized. norm visualization of the biliary tree no strictures. norm exam.\n",
      "\n",
      "\n",
      "chief complaint: dark urine and generalized weakness. history of present illness: 40 year old hispanic male presented to the emergency room complaining of generalized weakness fatigue and dark urine for one week. in addition he stated that his family had noticed yellowing of his skin and eyes though he himself had not noticed. he did complain of subjective fever and chills along with occasional night sweats during the prior week or so and he noted anorexia for 3-4 weeks leading to 26 pound weight loss (213 lbs. to 187 lbs.). he was nauseated but denied vomiting. he did admit to intermittent abdominal discomfort which he could not localize. in addition he denied any history of liver disease but had undergone cholecystectomy many years previous. past medical history: diabetes mellitus ii-hba1c unknown past surgical history: cholecystectomy without complication family history: mother with diabetes and hypertension. father with diabetes. brother with cirrhosis (etiology not documented). social history: he was unemployed and denied any alcohol or drug use. he was a prior “mild” smoker but quit 10 years previous. medications: insulin (unknown dosage) allergies: no known drug allergies. physical examination: temperature: 98.2 blood pressure:118/80 heart rate: 95 respiratory rate: 18 gen: middle age latin-american male jaundice alert and oriented to person/place/time. heent: normocephalic atraumatic. icteric sclerae pupils equal round and reactive to light. clear oropharynx. neck: supple without jugular venous distension lymphadenopathy and a markedly enlarged liver. his abdominal pain was controlled with mild narcotics and he was noted to have decreasing jaundice by hospital day 4. an ultrasound guided liver biopsy revealed only acute granulomatous inflammation and fibrosis. the overall architecture of the liver was noted to be well preserved. gastroenterology was consulted for egd and ercp. the egd was normal and the ercp showed normal biliary anatomy without evidence of obstruction. in addition they performed an endoscopic ultrasound-guided fine\n",
      "\n",
      "###########################################\n",
      "###########################################\n",
      "\n",
      "dejargon: diagnoses: 1. pneu. 2. crohn dis. 3. anasarca. 4. anemia. cc: i have a lot of swelling in my lgs. hx: the pt is a 41-yr-old gentleman w/ a long h/o crohn dis. he has been followed per dr. abc his primary care doctor but he states that he has had multiple gastroenterology doctors and has not seen one in the past yr to 18 months. he has been tx w multiple different meds for his crohn dis and most recently has been taking pulses of steroids off and on when he felt like he was having sx consistent w crampy abdominal pain ^ diarrhea and low-grade fevers. this has helped in the past but now he developed sx consistent w/ pneu and was adm to the hosp. he has been tx w/ iv abx and is growing strep. at this time he seems relatively stable although slightly dyspneic. other sx include le edema pain in his ankles and knees and actually sx of edema in his entire body including his face and ue. at this time he conts to have sx consistent w/ diarrhea and malabsorption. he also has some episodes of n/v at x. he currently has a cough and sx of dyspnea. further ros was not otherwise contributory. meds: 1. prednisone. 2. effexor. 3. folic acid. 4. norco for pain. pmhx: as mentioned above but he also has anxiety and depression. psh: 1. sm bowel resections. 2. appendectomy. 3. a vasectomy. allergies: he has nkda. soc hx: he does smoke two packs of cigarettes per day. he has no alc or drug use. he is a painter. family hx: significant for his fa who died of ipf and irritable bowel syndrome. ros: as mentioned in the hpi and further ros is not otherwise contributory. pe: gen: he is a thin appearing man in very mild resp distress when his o2 is off. vs: his rr is approx 18 to 20 his b/p is 100/70 his pulse is 90 and regular he is afeb currently at 96 and wt is approx 163 lbs. heent: sclerae anicteric. conjunctivae nml. nasal and op are clr. neck: supple. no jugular venous pressure distention is noted. there is no adenopathy in the cervical supraclavicular or axry areas. chest: reveals some cr in the r chest in the base and in the upper lung fields. his l is relatively clr w/ decr bs. cor: rrr. abd: slightly protuberant. bss are present. he is slightly tender and it is diffuse. there is no organomegaly and no ascites appreciable. extremities: there is a mild scrotal edema and in his le he has 2 to 3+ edema at pretibial and lat feet. derm: shows thin skin. no ecchymosis or petechiae. labs: labs are pertinent for a total protein of 3 and albumin of 1.3. there is no m-spike observed. his b12 is 500 w a folic acid of 11. his white count is 21 w a hbg of 10 and a plt count 204 000. impression at this time: 1. pneu in the face of fairly severe crohn dis w protein-losing enteropathy and severe malnutrition w/ anasarca. 2. he also has anemia and leukocytosis which may be related to his crohn dis as well as his underlying pneu. a+p: at this time i believe eval of protein intake and dietary supplement will be most appropriate. i believe that he needs a cal count. we will check on a sedimentation rate cr protein ldh prealbumin thyroid and iron studies am w his labs that are already ordered. i have recommended strongly to him that when he is out of the hosp he return to the care of his gastroenterologist. i will help in anyway that i can to improve the pt's lab abnmlities. however his le edema is primarily d/t his marked hypoalbuminemia and i do not believe that diuretics will help him at this time. i have explained this in detail to the pt and his family. qbody expresses understanding and all questions were answered. at this time follow him up during his hosp stay and plan to see him in the office as well.\n",
      "\n",
      "\n",
      "diagnoses: 1. pneumonia. 2. crohn disease. 3. anasarca. 4. anemia. chief complaint: i have a lot of swelling in my legs. history: the patient is a 41-year-old gentleman with a long history of crohn disease. he has been followed by dr. abc his primary care doctor but he states that he has had multiple gastroenterology doctors and has not seen one in the past year to 18 months. he has been treated with multiple different medications for his crohn disease and most recently has been taking pulses of steroids off and on when he felt like he was having symptoms consistent with crampy abdominal pain increased diarrhea and low-grade fevers. this has helped in the past but now he developed symptoms consistent with pneumonia and was admitted to the hospital. he has been treated with iv antibiotics and is growing streptococcus. at this time he seems relatively stable although slightly dyspneic. other symptoms include lower extremity edema pain in his ankles and knees and actually symptoms of edema in his entire body including his face and upper extremities. at this time he continues to have symptoms consistent with diarrhea and malabsorption. he also has some episodes of nausea and vomiting at times. he currently has a cough and symptoms of dyspnea. further review of systems: as mentioned in the history of present illness and irritable bowel syndrome. review of systems: as mentioned in the history of present illness and further review of systems is not otherwise contributory. physical examination: general: he is a thin appearing man in very mild respiratory distress when his oxygen is off. vital signs: his respiratory rate is approximately 18 to 20 his blood pressure is 100/70 his pulse is 90 and regular he is afebrile currently at 96 and weight is approximately 163 pounds. heent: sclerae anicteric. conjunctivae normal. nasal and oropharynx are clear. neck: supple. no jugular venous pressure distention is noted. there is no adenopathy in the cervical supraclavicular or axillary areas. chest: reveals some crackles in the right chest in the base and in the upper lung fields. his left is relatively\n",
      "\n",
      "###########################################\n",
      "###########################################\n",
      "\n",
      "dejargon: preop dx: severe tricompartmental osteoarthritis l knee w/ varus deformity. postop dx: severe tricompartmental osteoarthritis l knee w varus deformity. procedure performed: l total knee cemented arthroplasty. anesthesia: spinal w/ duramorph. est bld loss: 50 ml. needle and sponge count: correct. specs: none. tourniquet time: approx 77 min. implants used: 1. zimmer nexgen post stabilized lps-flex gsf fempo component size d l. 2. all-poly patella size 32/8.5 mm thickness. 3. prolong highly cross-linked polyethylene 12 mm. 4. stemmed tibial component size 2. 5. palacos cement w/ abx x2 batches. indication: the pt is an 84-yr-old f w significant endstage osteoarthritis of the l knee who has had rapid progression w/ pain and disability. surg was indicated to relieve her pain and improve her fxal ability. goal objectives and the procedure were discussed w/ the pt. risks and benefits were explained. no guarantees have been made or implied. informed consent was obtained. description of the procedure: the pt was taken to the or and once an adequate spinal anesthesia w duramorph was achieved her l le was prepped and draped in a standard sterile fashion. a nonsterile tourniquet was placed proxly in the thigh. abx were infused prior to f/c insertion. time-out procedure was called. a straight longitudinal ant midline incision was made. dissection was carried down sharply down the skin sc tissue and the fascia. deep fascia was exposed. the tourniquet was inflated at 300 mmhg prior to the skin incision. a standard medial parapatellar approach was made. the quadriceps tendon was incised approx 1 cm from the vastus medialis insertion. incision was then carried down distly and dist arthrotomy was completed. patellar tendon was well protected. retinaculum and cap was incised approx 5 mm from the medial border of the patella for later repair. the knee was exposed very well. significant tricompartmental osteoarthritis was noted. the osteophytes were removed w/ a rongeur. ant and post cruciate ligs were excised. medial and lat meniscectomies were performed. medial dissection was performed subperiosteally along the medial aspect of the prox tibia to address the varus deformity. the medial compartment was more affected than lat. medial ligs were tied. retropatellar fat pad was excised. osteophytes were removed. using a cobb elevator the medial soft tissue periosteum envelope was well reflected. attention was placed for the preparation of the femur. the trochlear notch was ossified. a rongeur was utilized to identify the notch and then using an im drill guide a starting hole was created slightly ant to the pcl attachment. the ant portal was 1 cm ant to the pcl attachment. the ant fempo sizer was positioned keeping 3 degrees of etx rotation. rotation was also verified using the transepicondylar axis and whiteside line. the pins were positioned in the appropriate holes. ant fempo cut was performed post placing the cutting guide. now the dist cutting guide was attached to the alignment and 5 degrees of valgus cut was planned. a dist fempo cut was made which was satisfactory. a sizer was positioned which was noted to be d. the 5-in-1 cutting block size d was secured w spring pins over the resected bone. using an oscillating saw cuts were made in a sequential manner such as ant condyle post condyle ant chamfer and post chamfer. then using a reciprocating saw intercondylar base notch cut and side cuts were made. following this the cutting block for high-flex knee was positioned taking 2 mm of additional post condyle. using a reciprocating saw the side cuts were made and bony intercondylar notch cut was completed. the bone w/ its attached soft tissue was removed. once the fempo preparation was completed attention was placed for the preparation of the tibia. the medial and the lat collat ligs were well protected w/ a retractor. the pcl retractor was positioned and the tibia was translated antly. osteophytes were removed. the extramedullary tibial alignment guide was affixed to the tibia and appropriate amt of etx rotation was considered reference to the medial 1/3rd of the tibial tubercle. similarly horseshoe alignment guide was positioned and the alignment guide was well aligned to the dist 1/3rd of the crest of the tibia as well as the 2nd toe. once the alignment was verified in a coronal plane the tibial em guide was well secured and then post slope was also aligned keeping the alignment rod parallel to the tibial crest. a built-in 7-degree post slope was considered w instrumentation. now the 2 mm stylus arm was positioned over the cutting block medially which was the most affected site. tibial osteotomy was completed 90 degrees to the mech axis in the coronal plane. the resected thickness of the bone was satisfactory taken 2 mm from the most affected site. the resected surface shows some sclerotic bone medially. now attention was placed for the removal of the post osteophytes from the fempo condyle. using curved osteotome angle curette and a rongeur the post osteophytes were removed. now attention was placed for confirming the flexion-extension gap balance using a 10 mm spacer block in extension and 12 mm in flexion. rectangular gap was achieved w/ appropriate soft tissue balance in both flexion and extension. the 12 mm spacer block was satisfactory w/ good stability in flexion and extension. attention was now placed for completion of the tibia. size 2 tibial trial plate was positioned. appropriate etx rotation was maintained w the help of the horseshoe alignment rod. reference to the tibial crest distly and 2nd toe was considered as ante. the midpoint of the trial tray was collinear w/ the medial 1/3rd of the tibial tubercle. the rotation of tibial plate was satisfactory as required and the preparation of the tibia was completed w/ im drill followed per broach impactor. at this point trial fempo and tibial components were reduced using a 12 mm trial liner. the range of motion and stability in both flexion and extension was satisfactory. no further soft tissue release was indicated. i was able to achieve 0 degrees of extension and complete flexion of the knee. attention was now placed for the preparation of the patella. using a patellar caliper the thickness was measured to be 21.5 mm. this gives an ideal resection of 8.5 mm keeping 13 mm of bone intact. reaming was initiated w a patellar reamer reaming up to 13 mm w/ the reaming alignment guide. using a caliper the resected patella was measured which was noted to be 13 mm. a 32 sizer was noted to accommodate the resected surface very well. drilling was completed and trial 32 button was inserted wo any diff. the tracking was satisfactory. there was no evidence of any subluxation or dislocation of the patella. the trial components position was satisfactory. the alignment and the rotation of all 3 components were satisfactory. all the trial components were removed and the wound was thoroughly irrigd w/ pulsavac lavage irrigation mech sys. the resected surfaces were dried w a sponge. two batches of palacos cement were mixed. the cementing was initiated starting w/ tibia followed per femur and patella. excess peripheral cement were removed w/ the curette and knife. the knee was positioned in extension w/ a 12 mm trial liner. patellar clamp was placed p cementing the all-poly patella. once the cement was set hard and cured tourniquet was deflated. hemostasis was achieved. the trial 12 mm liner was replaced w/ definitive prolong highly cross-linked polyethylene liner. range of motion and stability was verified at 0 degrees and flexion of 120 degrees. ant-post drawer test was satisfactory. medial and lat stability was satisfactory. patellar tracking was satisfactory. the wound was thoroughly irrigd. hemostasis was achieved. a local cocktail was injected which included the mixture of 0.25% plain marcaine 30 mg of toradol and 4 mg of morphine. the quadriceps mechanism and dist arthrotomy was repaired w #1 vicryl in figure-of-8 fashion. the subcut closure was performed in layers using 2-0 vicryl and 0 vicryl followed per 2-0 vicryl proxly. the skin was approximated w/ staples. sterile dsgs were placed including xeroform 4x4 abd and bias. the pt was then trxred to the recovery room in a stable condition. there were no intraop complications noted. she tolerated the procedure very well.\n",
      "\n",
      "\n",
      "preoperative diagnosis: severe tricompartmental osteoarthritis left knee with varus deformity. postoperative diagnosis: severe tricompartmental osteoarthritis left knee with varus deformity. procedure performed: left total knee cemented arthroplasty. anesthesia: spinal with duramorph. estimated blood loss: 50 ml. needle and sponge count: correct. specimens: none. tourniquet time: approximately 77 minutes. implants used: 1. zimmer nexgen posterior stabilized lps-flex gsf femoral component size d left. 2. all-poly patella size 2. 5. palacos cement with antibiotics x2 batches. indication: the patient is an 84-year-old female with significant endstage osteoarthritis of the left knee who has had rapid progression with pain and disability. surgery was indicated to relieve her pain and improve her functional ability. goal objectives and the procedure were discussed with the patient. risks and benefits were explained. no guarantees have been made or implied. informed consent was obtained. description of the procedure: the patient was taken to the operating room and once an adequate spinal anesthesia with duramorph was achieved her left lower extremity was prepped and draped in a standard sterile fashion. the anterior femoral cut was made which was satisfactory. a sizer was positioned using an im drill guide a starting hole was created slightly anterior to the posterior cruciate attachment. the anterior portal was 1 cm anterior to the posterior tibia was translated anteriorly. the tibial blade was positioned over the cutting block medially which was the most affected site. tibial osteotomy was completed 90 degrees to the mechanical axis in the coronal plane. the resected thickness of the bone was satisfactory taken 2 mm from the most affected site. the resected surface shows some sclerotic bone medially. now attention was placed for the removal of the posterior osteophytes from the femoral condyle. using curved osteotome angle curette and a rongeur the posterior osteophytes were removed. the trial components position was satisfactory. the trial 12 mm liner was replaced with definitive prolong highly cross-linked polyethylene liner. range of motion and stability was verified at 0 degrees and flexion of\n",
      "\n",
      "###########################################\n",
      "###########################################\n",
      "\n",
      "dejargon: procedure in detail: following instructions and completion of an po colonoscopy prep the pt having been properly informed of w signature consenting to total colonoscopy and indicated procedures the pt rec'd premeds of vistaril 50 mg atropine 0.4 mg im and then ivs meds of demerol 50 mg and versed 5 mg iv. perirect inspection was norm. the olympus video colonoscope then was introduced into the rectum and passed per directed vision to the cecum and into the terminal ileum. no abnmlities were seen of the terminal ileum the ileocecal valve cecum ascending colon hepatic flexure transverse colon splenic flexure descending colon rectosigmoid and rectum. retroflexion exam in the rectum revealed no other abnormity and wdrawal terminated the procedure.\n",
      "\n",
      "\n",
      "procedure in detail: following instructions and completion of an oral colonoscopy prep the patient having been properly informed of with signature consenting to total colonoscopy and indicated procedures the patient received premedications of vistaril 50 mg atropine 0.4 mg im and then intravenous medications of demerol 50 mg and versed 5 mg iv. perirectal inspection was normal. the olympus video colonoscope then was introduced into the rectum and passed by directed vision to the cecum and into the terminal ileum. no abnormalities were seen of the terminal ileum the ileocecal valve cecum ascending colon hepatic flexure transverse colon splenic flexure descending colon rectosigmoid and rectum. retroflexion exam in the rectum revealed no other abnormality and withdrawal terminated the procedure.\n",
      "\n",
      "###########################################\n",
      "###########################################\n",
      "\n"
     ]
    }
   ],
   "source": [
    "for i in test_df[['source_text','predicted']].iloc[0:9].iterrows():\n",
    "    print(i[1][0])\n",
    "    print('\\n')\n",
    "    print(i[1][1])\n",
    "    print('\\n###########################################')\n",
    "    print('###########################################\\n')"
   ],
   "metadata": {
    "collapsed": false,
    "pycharm": {
     "name": "#%%\n"
    }
   }
  },
  {
   "cell_type": "code",
   "execution_count": 25,
   "outputs": [
    {
     "name": "stderr",
     "output_type": "stream",
     "text": [
      "/tmp/ipykernel_155063/4075849144.py:1: SettingWithCopyWarning: \n",
      "A value is trying to be set on a copy of a slice from a DataFrame.\n",
      "Try using .loc[row_indexer,col_indexer] = value instead\n",
      "\n",
      "See the caveats in the documentation: https://pandas.pydata.org/pandas-docs/stable/user_guide/indexing.html#returning-a-view-versus-a-copy\n",
      "  test_df['predicted'] = test_df['predicted'].apply(lambda x: x[0])\n"
     ]
    },
    {
     "data": {
      "text/plain": "2717    preoperative diagnosis: symptomatic disk herni...\n2079    her evaluation today reveals restriction in th...\n3389    discharge diagnoses: 1. acute cerebrovascular ...\n722     pre and postoperative diagnosis: left cervical...\n951     preoperative diagnosis: carcinoma of the prost...\nName: predicted, dtype: object"
     },
     "execution_count": 25,
     "metadata": {},
     "output_type": "execute_result"
    }
   ],
   "source": [
    "test_df['predicted'] = test_df['predicted'].apply(lambda x: x[0])\n",
    "test_df['predicted'].head()"
   ],
   "metadata": {
    "collapsed": false,
    "pycharm": {
     "name": "#%%\n"
    }
   }
  },
  {
   "cell_type": "code",
   "execution_count": 30,
   "outputs": [
    {
     "data": {
      "text/plain": "[('preoperative diagnosis: symptomatic disk herniation c7-t1. final diagnosis: symptomatic disk herniation c7-t1. procedures performed 1. anterior cervical discectomy with decompression of spinal cord c7-t1. 2. anterior cervical fusion c7-t1. 3. anterior cervical instrumentation anterior c7-t1. 4. insertion of intervertebral device c7-t1. 5. use of operating microscope. anesthesiology: general endotracheal. estimated blood loss: a 30 ml. procedure in detail: the patient was taken to the operating room where he was orally intubated by the anesthesiology service. he was placed in the supine position on an or table. his arms were carefully taped down. he was sterilely prepped and draped in the usual fashion. a 4-cm incision was made obliquely over the left side of his neck. subcutaneous tissue was dissected down to the level of the platysma. the platysma was incised using electrocautery. blunt dissection was done to create a plane between the strap muscles and the sternoclavicular mastoid muscle. this allowed us to get right down on to the anterior cervical spine. blunt dissection was done to sweep off the longus colli. we isolated the c7-t1 interspace. an x-ray was taken to verify; we were indeed at the c7-t1 interspace. shadow-line retractor was placed as well as caspar pins. this provided very very good access to the c7-t1 disk. at this point the operating microscope was brought into the decompression. a thorough and aggressive c7-t1 discectomy was done using a succession of curettes pituitary rongeur 4-mm cutting bur and a #2 kerrison rongeur. at the end of the discectomy the cartilaginous endplates were carefully removed using 4-mm cutting burr. the posterior longitudinal ligament was carefully resected using #2 kerrison rongeur. left-sided c8 foraminotomy was accomplished using nerve hook and a 2-mm kerrison rongeur. at the end of the decompression there was no further compression on the left c8 nerve root. a synthes cortical cancellous ____________ bone was placed in the interspace. sofamor danek atlantis plate was then placed over the interspace and four screws were placed two in the body of c7 and two in the body of t1. an x-ray was taken. it showed good placement of the plate and screws. a deep drain was placed. the platysma layer was closed in running fashion using #1 vicryl. subcutaneous tissue was closed in an interrupted fashion using 2-0 vicryl. skin was closed in a running fashion using 4-0 monocryl. steri-strips and dressings were applied. all counts were correct. there were no complications.',\n  'preoperative diagnosis: symptomatic disk herniation c7-t1. final diagnosis: symptomatic disk herniation c7-t1. procedures performed 1. anterior cervical discectomy with decompression of spinal cord c7-t1. 2. anterior cervical fusion c7-t1. 3. anterior cervical instrumentation anterior c7-t1. 4. insertion of intervertebral device c7-t1. 5. use of operating microscope. anesthesiology: general endotracheal. estimated blood loss: a 30 ml. procedure in detail: the patient was taken to the operating room where he was orally intubated by the anesthesiology service. he was placed in the supine position on an or table. his arms were carefully taped down. he was sterilely prepped and draped in the usual fashion. a 4-cm incision was made obliquely over the left side of his neck. subcutaneous tissue was dissected down to the level of the platysma. the platysma was incised using electrocautery. blunt dissection was done to create a plane between the strap muscles and the sternoclavicular mastoid muscle. this allowed us to get right down on to the anterior cervical spine. blunt dissection was done to sweep off the longus colli. we isolated the c7-t1 interspace. an x-ray was taken to verify; we were indeed at the c7-t1 interspace. shadow-line retractor was placed as well as caspar pins. this provided very very good access to the c7-t1 disk. at this point the operating microscope was brought into the decompression. a thorough and aggressive c7-t1 discectomy was done using a succession of curettes pituitary rongeur 4-mm cutting bur and a #2 kerrison rongeur. at the end of the discectomy the cartilaginous endplates were carefully removed using 4-mm cutting burr. the posterior longitudinal ligament was carefully resected using #2 kerrison rongeur. left-sided c8 foraminotomy was accomplished using nerve hook and a 2-mm kerrison rongeur.'),\n (\"her evaluation today reveals restriction in the range of motion of the cervical and lumbar region with tenderness and spasms of the paraspinal musculature. motor strength was 5/5 on the mrc scale. reflexes were 2+ and symmetrical. palpable trigger points were noted bilaterally in the trapezius and lumbar paraspinal musculature bilaterally. palpable trigger points were noted on today's evaluation. she is suffering from ongoing myofascitis. her treatment plan will consist of a series of trigger point injections which were performed today. she tolerated the procedure well. i have asked her to ice the region intermittently for 15 minutes off and on x 3. she will be followed in four weeks' time for repeat trigger point injections if indicated.\",\n  \"her evaluation today reveals restriction in the range of motion of the cervical and lumbar region with tenderness and spasms of the paraspinal musculature. motor strength was 5/5 on the mrc scale. reflexes were 2+ and symmetrical. palpable trigger points were noted bilaterally in the trapezius and lumbar paraspinal musculature bilaterally. palpable trigger points were noted on today's evaluation. she is suffering from ongoing myofascitis. her treatment plan will consist of a series of trigger point injections which were performed today. she tolerated the procedure well. i have asked her to ice the region intermittently for 15 minutes off and on x 3. she will be followed in four weeks' time for repeat trigger point injections if indicated.\"),\n (\"discharge diagnoses: 1. acute cerebrovascular accident/left basal ganglia and deep white matter of the left parietal lobe. 2. hypertension. 3. urinary tract infection. 4. hypercholesterolemia. procedures: 1. on 3/26/2006 portable chest single view. impression: atherosclerotic change in the aortic knob. 2. on 3/26/2006 chest portable single view. impression: mild tortuosity of the thoracic aorta maybe secondary to hypertension; right lateral costophrenic angle is not evaluated due to positioning of the patient. 3. on march 27 2006 swallowing study: normal swallowing study with minimal penetration with thin liquids. 4. on march 26 2006 head ct without contrast: 1) air-fluid level in the right maxillary sinus suggestive of acute sinusitis; 2) a 1.8-cm oval low density mass in the dependent portion of the left maxillary sinus is consistent with a retention cyst; 3) mucoparietal cell thickening in the right maxillary sinus and ethmoid sinuses. 4. iv contrast ct scan of the head is unremarkable. 5. on 3/26/2006 mri/mra of the neck and brain with and without contrast: 1) changes consistent with an infarct involving the right basal ganglia and deep white matter of the left parietal lobe as described above; 2) diffuse smooth narrowing of the left middle cerebral artery that may be a congenital abnormality. clinical correlation is necessary. 6. on march 27th echocardiogram with bubble study. impression: normal left ventricular systolic function with estimated left ventricular ejection fraction of 55%. there is mild concentric left ventricular hypertrophy. the left atrial size is normal with a negative bubble study. 7. on march 27 2006 carotid duplex ultrasound showed: 1) grade 1 carotid stenosis on the right; 2) no evidence of carotid stenosis on the left. history and physical: this is a 56-year-old white male with a history of hypertension for 15 years untreated. the patient woke up at 7: 15 a.m. on march 26 with the sudden onset of right-sided weakness of his arm hand leg and foot and also with a right facial droop right hand numbness on the dorsal side left face numbness and slurred speech. the patient was brought by ems to emergency room. the patient was normal before he went to bed the prior night. he was given aspirin in the er. the ct of the brain without contrast did not show any changes. he could not have a ct with contrast because the machine was broken. he went ahead and had the mri/mra of the brain and neck which showed infarct involving the right basal ganglia and deep white matter of the left parietal lobe. also there is diffuse smooth narrowing of the left middle cerebral artery. the patient was admitted to the micu. hospital course per problem list: 1. acute cerebrovascular accident: the patient was not a candidate for tissue plasminogen activator. a neurology consult was obtained from dr. s. she agrees with our treatment for this patient. the patient was on aspirin 325 mg and also on zocor 20 mg once a day. we also ordered fasting blood lipids which showed cholesterol of 165 triglycerides 180 hdl cholesterol 22 ldl cholesterol 107. dr. farber agreed to treat the risk factors to not treat blood pressure for the first two weeks of the stroke. we put the patient on p.r.n. labetalol only for systolic blood pressure greater than 200 diastolic blood pressure greater than 120. the patient's blood pressure has been stable and he did not need any blood pressure medications. his right leg kept improving with increased muscle strength and it was 4-5/5 however his right upper extremity did not improve much and was 0-1/5. his slurred speech has been improved a little bit. the patient started pt ot and speech therapy on the second day of hospitalization. the patient was transferred out to a regular floor on the same day of admission based on his stable neurologic exam. also we added aggrenox for secondary stroke prevention suggested by dr. f. echocardiogram was ordered and showed normal left ventricular function with bubble study that was negative. carotid ultrasound only showed mild stenosis on the right side. ekg did not show any changes so the patient will be transferred to siskin rehabilitation hospital today on aggrenox for secondary stroke prevention. he will not need blood pressure treatment unless systolic is greater than 220 diastolic greater than 120 for the first week of his stroke. on discharge on his neurologic exam he has a right facial palsy from the eye below he has right upper extremity weakness with 0-1/5 muscle strength right leg is 4-5/5 improved slurred speech. 2. hypertension: as i mentioned in item #1 see above his blood pressure has been stable. this did not need any treatment. 3. urinary tract infection: the patient had urinalysis on march 26th which showed a large amount of leukocyte esterase small amount of blood with red blood cells 34 white blood cells 41 moderate amount of bacteria. the patient was started on cipro 250 mg p.o. b.i.d. on march 26th. he needs to finish seven days of antibiotic treatment for his uti. urine culture and sensitivity were negative. 4. hypercholesterolemia: the patient was put on zocor 20 mg p.o. daily. the goal ldl for this patient will be less than 70. his ldl currently is 107 hdl is 22 triglycerides 180 cholesterol is 165. condition on discharge: stable. activity: as tolerated. diet: low-fat low-salt cardiac diet. discharge instructions: 1. take medications regularly. 2. pt ot speech therapist to evaluate and treat at siskin rehab hospital. 3. continue cipro for an additional two days for his uti. discharge medications: 1. cipro 250 mg one tablet p.o. b.i.d. for an additional two days. 2. aggrenox one tablet p.o. b.i.d. 3. docusate sodium 100 mg one cap p.o. b.i.d. 4. zocor 20 mg one tablet p.o. at bedtime. 5. prevacid 30 mg p.o. once a day. follow up: 1. the patient needs to follow up with rehabilitation hospital after he is discharged from there. 2. the patient can call the clinic if he needs a follow up appointment with us or the patient can find a primary care physician since he has insurance.\",\n  'discharge diagnoses: 1. acute cerebrovascular accident/left basal ganglia and deep white matter of the left parietal lobe. 2. hypertension. 3. urinary tract infection. 4. hypercholesterolemia. procedures: 1. on 3/26/2006 portable chest single view. impression: atherosclerotic change in the aortic knob. 2. on 3/26/2006 chest portable single view. impression: mild tortuosity of the thoracic aorta maybe secondary to hypertension; right lateral costophrenic angle is not evaluated due to positioning of the patient. 3. on march 27 2006 swallowing study: normal swallowing study with minimal penetration with thin liquids. 4. on march 26 2006 head ct without contrast: 1) air-fluid level in the right maxillary sinus suggestive of acute sinusitis; 2) a 1.8-cm oval low density mass in the dependent portion of the left maxillary sinus and ethmoid sinuses. 4. iv contrast ct scan of the head is unremarkable. 5. on 3/26/2006 mri/mra of the brain without contrast did not show any changes. he could not have a ct with contrast because the machine was broken. he went ahead and had the mri/mra of the brain and neck which showed infarct involving the right basal ganglia and deep white matter of the left parietal lobe. also there is diffuse smooth narrowing of the left middle cerebral artery. the patient was admitted to the micu. hospital course per problem list: 1. acute cerebrovascular accident: the patient was not a candidate for treatment of hypertension. the patient was on aspirin 325 mg and also on zocor 20 mg once a day. we also ordered fasting blood lipids which showed cholesterol of 165 triglycerides 180 hdl cholesterol 22 ldl cholesterol 107. the patient was started on zocor 20 mg p.o. daily. the goal ldl for this patient will be less than 70. his ldl currently is 107 hdl is 22 triglycerides 180 cholesterol is 165. condition on discharge:')]"
     },
     "execution_count": 30,
     "metadata": {},
     "output_type": "execute_result"
    }
   ],
   "source": [
    "tuple_for_cf = list(zip(test_df['target_text'], test_df['predicted']))\n",
    "tuple_for_cf[0:3]"
   ],
   "metadata": {
    "collapsed": false,
    "pycharm": {
     "name": "#%%\n"
    }
   }
  },
  {
   "cell_type": "markdown",
   "source": [
    "# Let's see how many detected acabs are resolved from our model\n",
    "## To do this we need to:\n",
    "\n",
    "### First calculate how many substitutions our model made both in total and at the document level\n",
    "### Aka the rate of identification and substitution\n",
    "- First see how many acabs were in our training dataset (resolved in the gold standard target text) from our acab list.\n",
    "- This is to ensure we are being fair to the model with respect to what it was trained on.\n",
    "- We then count the number of those per document\n",
    "- Then see how many remain in the target text\n",
    "- We should do this at the document level and the total level\n",
    "\n",
    "### Next for accuracy, etc. take random samples and manually evaluate if the correct long form was completed\n",
    "- We should calculate how many samples we would need as an average representative sample of the total in the test set"
   ],
   "metadata": {
    "collapsed": false,
    "pycharm": {
     "name": "#%% md\n"
    }
   }
  },
  {
   "cell_type": "markdown",
   "source": [
    "### First let's do the rate of indentification and substitution"
   ],
   "metadata": {
    "collapsed": false,
    "pycharm": {
     "name": "#%% md\n"
    }
   }
  },
  {
   "cell_type": "code",
   "execution_count": 58,
   "outputs": [
    {
     "data": {
      "text/plain": "  acab      long_form\n0  (r)        refused\n1    l          liter\n2    l         liters\n3  10l     ten liters\n4  11l  eleven liters",
      "text/html": "<div>\n<style scoped>\n    .dataframe tbody tr th:only-of-type {\n        vertical-align: middle;\n    }\n\n    .dataframe tbody tr th {\n        vertical-align: top;\n    }\n\n    .dataframe thead th {\n        text-align: right;\n    }\n</style>\n<table border=\"1\" class=\"dataframe\">\n  <thead>\n    <tr style=\"text-align: right;\">\n      <th></th>\n      <th>acab</th>\n      <th>long_form</th>\n    </tr>\n  </thead>\n  <tbody>\n    <tr>\n      <th>0</th>\n      <td>(r)</td>\n      <td>refused</td>\n    </tr>\n    <tr>\n      <th>1</th>\n      <td>l</td>\n      <td>liter</td>\n    </tr>\n    <tr>\n      <th>2</th>\n      <td>l</td>\n      <td>liters</td>\n    </tr>\n    <tr>\n      <th>3</th>\n      <td>10l</td>\n      <td>ten liters</td>\n    </tr>\n    <tr>\n      <th>4</th>\n      <td>11l</td>\n      <td>eleven liters</td>\n    </tr>\n  </tbody>\n</table>\n</div>"
     },
     "execution_count": 58,
     "metadata": {},
     "output_type": "execute_result"
    }
   ],
   "source": [
    "# load in the acab list\n",
    "acab_df = pd.read_csv('/home/karl/PycharmProjects/RABAC/resources/acab.txt', delimiter='|')\n",
    "acab_df.head()"
   ],
   "metadata": {
    "collapsed": false,
    "pycharm": {
     "name": "#%%\n"
    }
   }
  },
  {
   "cell_type": "code",
   "execution_count": 73,
   "outputs": [],
   "source": [
    "# Get unique short forms of acabs\n",
    "acab_set = set(acab_df['acab'].to_list())"
   ],
   "metadata": {
    "collapsed": false,
    "pycharm": {
     "name": "#%%\n"
    }
   }
  },
  {
   "cell_type": "code",
   "execution_count": 75,
   "outputs": [
    {
     "name": "stdout",
     "output_type": "stream",
     "text": [
      "76170\n"
     ]
    }
   ],
   "source": [
    "# Count the total number of acabs in the source text\n",
    "import re\n",
    "\n",
    "total_count_source = 0\n",
    "for text in test_df['source_text'].to_list():\n",
    "    text = re.sub(r'[^\\w\\s]', ' ', text)\n",
    "    words = text.split(' ')\n",
    "    for word in words:\n",
    "        if word in acab_set:\n",
    "            total_count_source+=1\n",
    "print(total_count_source)"
   ],
   "metadata": {
    "collapsed": false,
    "pycharm": {
     "name": "#%%\n"
    }
   }
  },
  {
   "cell_type": "code",
   "execution_count": 76,
   "outputs": [
    {
     "name": "stdout",
     "output_type": "stream",
     "text": [
      "0\n"
     ]
    }
   ],
   "source": [
    "# Count the total number of acabs in predicted output\n",
    "total_count_pred = 0\n",
    "for text in test_df['predicted'].to_list():\n",
    "    text = re.sub(r'[^\\w\\s]', ' ', text)\n",
    "    words = text.split(' ')\n",
    "    for word in words:\n",
    "        if word in acab_set:\n",
    "            total_count_source+=1\n",
    "print(total_count_pred)"
   ],
   "metadata": {
    "collapsed": false,
    "pycharm": {
     "name": "#%%\n"
    }
   }
  },
  {
   "cell_type": "markdown",
   "source": [
    "## Okay wow, so if the model was trained on any acab, it will always sub it out, that's pretty good!\n",
    "## That means we have a 100% substitution/identification rate, let's see some accuracy/confusion matrix stats\n",
    "- We must unfortunately do this manually because there is no easy way to automatically tell if the correct acab was substituted in, we could look at target text, and compute from that, but say for instance UTI is solved to urinary tract infection, this will mess up mapping of the calculation. Or if text was cut due to length, or semi-colon, output may not have the same length. Programmatically doing this would probably be slower than just manually calculating it from a well representative sample size.\n",
    "### We should calculate the needed representative sample size to detect an expected sensitivity/specificity of 90% (okay if lower)\n",
    "- Its okay if our sensitivity and specificity are lower than 90%, the higher we use it just means we need a larger sample size\n",
    "### We need to know the prevalanced of acabs within a given text\n",
    "- For prevalance: we will calculate this as a percentage of total acabs to total words\n",
    "### We will use a high confidence of 95% or greater"
   ],
   "metadata": {
    "collapsed": false,
    "pycharm": {
     "name": "#%% md\n"
    }
   }
  },
  {
   "cell_type": "code",
   "execution_count": 79,
   "outputs": [
    {
     "data": {
      "text/plain": "0.1872825666795516"
     },
     "execution_count": 79,
     "metadata": {},
     "output_type": "execute_result"
    }
   ],
   "source": [
    "# First let's calculate prevlance to know how much to sample\n",
    "# We already have the total acabs in the test dataset from above, let's check how many words there are\n",
    "total_words = 0\n",
    "for text in test_df['source_text'].to_list():\n",
    "    # we don't need to sub out punctuation here\n",
    "    # and in fact when we do that we add spaces which during the split will artificially increase word count\n",
    "    words = text.split(' ')\n",
    "    total_words += len(words)\n",
    "prevalence = total_count_source / total_words\n",
    "prevalence # round to 19%"
   ],
   "metadata": {
    "collapsed": false,
    "pycharm": {
     "name": "#%%\n"
    }
   }
  },
  {
   "cell_type": "markdown",
   "source": [
    "## To calculate the sample size needed for prevalance we use the formula from\n",
    "- [Statistical  Methodology: I.  Incorporating the Prevalence of Disease  into the Sample Size Calculation for Sensitivity and Specificity](https://onlinelibrary.wiley.com/doi/epdf/10.1111/j.1553-2712.1996.tb03538.x)\n",
    "- This comes out to be 182 for sensitivity, and 43 for specificity, which we can then use to calculate accuracy, recall (same as sensitivity), and preciscion as well."
   ],
   "metadata": {
    "collapsed": false,
    "pycharm": {
     "name": "#%% md\n"
    }
   }
  },
  {
   "cell_type": "code",
   "execution_count": 83,
   "outputs": [
    {
     "data": {
      "text/plain": "                                            source_text  \\\n3531  dejargon: preop dx: pos peptic ulcer dis. post...   \n4779  dejargon: reason for referral: elevd bnp. hpi:...   \n2017  dejargon: preop diagnoses: h/o compartment syn...   \n4888  dejargon: preop dx: post infarct angina. type ...   \n249   dejargon: preop dx: degenerative arthritis of ...   \n...                                                 ...   \n4332  dejargon: hpi: this is a 70-yr-old f w a pmhx ...   \n2026  dejargon: preop dx: severe scoliosis. anesthes...   \n4499  dejargon: reason for neuroal cons: cervical sp...   \n1668  dejargon: technique: sequential axial ct image...   \n1816  dejargon: procedure: keller bunionectomy. for ...   \n\n                                            target_text  \\\n3531  preoperative diagnosis: positive peptic ulcer ...   \n4779  reason for referral: elevated bnp. history of ...   \n2017  preoperative diagnoses: history of compartment...   \n4888  preoperative diagnosis: post infarct angina. t...   \n249   preoperative diagnosis: degenerative arthritis...   \n...                                                 ...   \n4332  history of present illness: this is a 70-year-...   \n2026  preoperative diagnosis: severe scoliosis. anes...   \n4499  reason for neurological consultation: cervical...   \n1668  technique: sequential axial ct images were obt...   \n1816  procedure: keller bunionectomy. for informed c...   \n\n                                              predicted  \n3531  preoperative diagnosis: positive peptic ulcer ...  \n4779  reason for referral: elevated bnp. history of ...  \n2017  preoperative diagnoses: history of compartment...  \n4888  preoperative diagnosis: post infarct angina. t...  \n249   preoperative diagnosis: degenerative arthritis...  \n...                                                 ...  \n4332  history of present illness: this is a 70-year-...  \n2026  preoperative diagnosis: severe scoliosis. anes...  \n4499  reason for neurological consultation: cervical...  \n1668  technique: sequential axial ct images were obt...  \n1816  procedure: keller bunionectomy. for informed c...  \n\n[182 rows x 3 columns]",
      "text/html": "<div>\n<style scoped>\n    .dataframe tbody tr th:only-of-type {\n        vertical-align: middle;\n    }\n\n    .dataframe tbody tr th {\n        vertical-align: top;\n    }\n\n    .dataframe thead th {\n        text-align: right;\n    }\n</style>\n<table border=\"1\" class=\"dataframe\">\n  <thead>\n    <tr style=\"text-align: right;\">\n      <th></th>\n      <th>source_text</th>\n      <th>target_text</th>\n      <th>predicted</th>\n    </tr>\n  </thead>\n  <tbody>\n    <tr>\n      <th>3531</th>\n      <td>dejargon: preop dx: pos peptic ulcer dis. post...</td>\n      <td>preoperative diagnosis: positive peptic ulcer ...</td>\n      <td>preoperative diagnosis: positive peptic ulcer ...</td>\n    </tr>\n    <tr>\n      <th>4779</th>\n      <td>dejargon: reason for referral: elevd bnp. hpi:...</td>\n      <td>reason for referral: elevated bnp. history of ...</td>\n      <td>reason for referral: elevated bnp. history of ...</td>\n    </tr>\n    <tr>\n      <th>2017</th>\n      <td>dejargon: preop diagnoses: h/o compartment syn...</td>\n      <td>preoperative diagnoses: history of compartment...</td>\n      <td>preoperative diagnoses: history of compartment...</td>\n    </tr>\n    <tr>\n      <th>4888</th>\n      <td>dejargon: preop dx: post infarct angina. type ...</td>\n      <td>preoperative diagnosis: post infarct angina. t...</td>\n      <td>preoperative diagnosis: post infarct angina. t...</td>\n    </tr>\n    <tr>\n      <th>249</th>\n      <td>dejargon: preop dx: degenerative arthritis of ...</td>\n      <td>preoperative diagnosis: degenerative arthritis...</td>\n      <td>preoperative diagnosis: degenerative arthritis...</td>\n    </tr>\n    <tr>\n      <th>...</th>\n      <td>...</td>\n      <td>...</td>\n      <td>...</td>\n    </tr>\n    <tr>\n      <th>4332</th>\n      <td>dejargon: hpi: this is a 70-yr-old f w a pmhx ...</td>\n      <td>history of present illness: this is a 70-year-...</td>\n      <td>history of present illness: this is a 70-year-...</td>\n    </tr>\n    <tr>\n      <th>2026</th>\n      <td>dejargon: preop dx: severe scoliosis. anesthes...</td>\n      <td>preoperative diagnosis: severe scoliosis. anes...</td>\n      <td>preoperative diagnosis: severe scoliosis. anes...</td>\n    </tr>\n    <tr>\n      <th>4499</th>\n      <td>dejargon: reason for neuroal cons: cervical sp...</td>\n      <td>reason for neurological consultation: cervical...</td>\n      <td>reason for neurological consultation: cervical...</td>\n    </tr>\n    <tr>\n      <th>1668</th>\n      <td>dejargon: technique: sequential axial ct image...</td>\n      <td>technique: sequential axial ct images were obt...</td>\n      <td>technique: sequential axial ct images were obt...</td>\n    </tr>\n    <tr>\n      <th>1816</th>\n      <td>dejargon: procedure: keller bunionectomy. for ...</td>\n      <td>procedure: keller bunionectomy. for informed c...</td>\n      <td>procedure: keller bunionectomy. for informed c...</td>\n    </tr>\n  </tbody>\n</table>\n<p>182 rows × 3 columns</p>\n</div>"
     },
     "execution_count": 83,
     "metadata": {},
     "output_type": "execute_result"
    }
   ],
   "source": [
    "sample_for_cf = test_df.sample(frac=(182 / len(test_df)))\n",
    "sample_for_cf"
   ],
   "metadata": {
    "collapsed": false,
    "pycharm": {
     "name": "#%%\n"
    }
   }
  },
  {
   "cell_type": "code",
   "execution_count": 85,
   "outputs": [],
   "source": [
    "# Time for some manual review of the 182 samples to compute confusion matrix manually ugh."
   ],
   "metadata": {
    "collapsed": false,
    "pycharm": {
     "name": "#%%\n"
    }
   }
  },
  {
   "cell_type": "code",
   "execution_count": 84,
   "outputs": [],
   "source": [
    "test_df.to_csv('./model_results.csv')"
   ],
   "metadata": {
    "collapsed": false,
    "pycharm": {
     "name": "#%%\n"
    }
   }
  },
  {
   "cell_type": "code",
   "execution_count": 86,
   "outputs": [],
   "source": [
    "sample_for_cf.to_csv('./samples_for_confusion_matrix.csv')"
   ],
   "metadata": {
    "collapsed": false,
    "pycharm": {
     "name": "#%%\n"
    }
   }
  },
  {
   "cell_type": "code",
   "execution_count": 51,
   "outputs": [],
   "source": [],
   "metadata": {
    "collapsed": false,
    "pycharm": {
     "name": "#%%\n"
    }
   }
  },
  {
   "cell_type": "markdown",
   "source": [
    "## Initial impression of the model:\n",
    "\n",
    "- It has an identification and substitution rate of 100%!!!\n",
    "- The above means that if the model saw an acab in training, it identified it and substituted it 100% of the time, whether or not it was the correct substitution is described below. We will need to do a confusion matrix for this.\n",
    "- The confusion matrix for (accuracy, recall, preciscion, F1, sensitivity and specifity is going to take me a bit\n",
    "- The reason for time need to compute confusion matrix is because I cannot automate knowing if the correct acab long form was subbed, or else we wouldn't need this model\n",
    "- I calculated a representative sample size to extrapolate these terms, it will require manually reviewing 182 samples\n",
    "- Otherwise the model did really well on basic sanity checks, which means we are taking the right approach (described below)\n",
    "- Additionally, if we have good confusion matrix scores, this model literally took a day to train, compared to the nature paper which would've taken 4 years or whatever larry calculated.\n",
    "- Some of the training data did not include resolved abbreviations, for example 'ct' remained ct in the target text, so ct would not be resolved\n",
    "- I think lower casing the text may make it difficult to differentiate certain tokens for dejargoning, we should avoid this for the full model\n",
    "- Something to be concerned about with GPT or T5 models in this use case is \"hallucinations\", aka ramblings to a prompt, or deviation from original text\n",
    "- I didn't see a lot of hallucinations and overall it had high fidelity (little to no changing of original text unless it was an ACAB), still\n",
    "- Some input had text chopped off at the end, we need to investigate whether this was from allowable sequence length, or if because the model thinks a semi colon means new input\n"
   ],
   "metadata": {
    "collapsed": false,
    "pycharm": {
     "name": "#%% md\n"
    }
   }
  },
  {
   "cell_type": "code",
   "execution_count": null,
   "outputs": [],
   "source": [],
   "metadata": {
    "collapsed": false,
    "pycharm": {
     "name": "#%%\n"
    }
   }
  }
 ],
 "metadata": {
  "kernelspec": {
   "display_name": "Python 3",
   "language": "python",
   "name": "python3"
  },
  "language_info": {
   "codemirror_mode": {
    "name": "ipython",
    "version": 2
   },
   "file_extension": ".py",
   "mimetype": "text/x-python",
   "name": "python",
   "nbconvert_exporter": "python",
   "pygments_lexer": "ipython2",
   "version": "2.7.6"
  }
 },
 "nbformat": 4,
 "nbformat_minor": 0
}